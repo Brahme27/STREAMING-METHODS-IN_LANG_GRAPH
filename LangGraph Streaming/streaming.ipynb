{
 "cells": [
  {
   "cell_type": "markdown",
   "metadata": {},
   "source": [
    "### Implementing simple Chatbot Using LangGraph"
   ]
  },
  {
   "cell_type": "code",
   "execution_count": 1,
   "metadata": {},
   "outputs": [],
   "source": [
    "from typing_extensions import TypedDict\n",
    "\n",
    "from langgraph.graph import StateGraph, START, END\n",
    "\n",
    "## Reducers\n",
    "from typing import Annotated\n",
    "from langgraph.graph.message import add_messages"
   ]
  },
  {
   "cell_type": "code",
   "execution_count": 2,
   "metadata": {},
   "outputs": [],
   "source": [
    "class State(TypedDict):\n",
    "    messages:Annotated[list,add_messages]"
   ]
  },
  {
   "cell_type": "code",
   "execution_count": 3,
   "metadata": {},
   "outputs": [],
   "source": [
    "import os\n",
    "from dotenv import load_dotenv\n",
    "load_dotenv()\n",
    "\n",
    "os.environ[\"OPENAI_API_KEY\"]=os.getenv(\"OPENAI_API_KEY\")\n",
    "os.environ[\"GROQ_API_KEY\"]=os.getenv(\"GROQ_API_KEY\")\n"
   ]
  },
  {
   "cell_type": "code",
   "execution_count": 4,
   "metadata": {},
   "outputs": [
    {
     "data": {
      "text/plain": [
       "AIMessage(content='Hello! How can I assist you today?', additional_kwargs={'refusal': None}, response_metadata={'token_usage': {'completion_tokens': 9, 'prompt_tokens': 8, 'total_tokens': 17, 'completion_tokens_details': {'accepted_prediction_tokens': 0, 'audio_tokens': 0, 'reasoning_tokens': 0, 'rejected_prediction_tokens': 0}, 'prompt_tokens_details': {'audio_tokens': 0, 'cached_tokens': 0}}, 'model_name': 'gpt-4o-2024-08-06', 'system_fingerprint': 'fp_07871e2ad8', 'id': 'chatcmpl-BmzXq9YVcp2UQ5KoHeWJIY9FT11hB', 'service_tier': 'default', 'finish_reason': 'stop', 'logprobs': None}, id='run--f1680580-4126-48ce-903c-1d250efa65bf-0', usage_metadata={'input_tokens': 8, 'output_tokens': 9, 'total_tokens': 17, 'input_token_details': {'audio': 0, 'cache_read': 0}, 'output_token_details': {'audio': 0, 'reasoning': 0}})"
      ]
     },
     "execution_count": 4,
     "metadata": {},
     "output_type": "execute_result"
    }
   ],
   "source": [
    "from langchain_openai import ChatOpenAI\n",
    "llm=ChatOpenAI(model=\"gpt-4o\")\n",
    "llm.invoke(\"Hello\")"
   ]
  },
  {
   "cell_type": "code",
   "execution_count": 5,
   "metadata": {},
   "outputs": [
    {
     "data": {
      "text/plain": [
       "AIMessage(content=\"\\n<think>\\nOkay, the user is Krish who likes to play cricket. Let me think about how to respond. First, I should acknowledge his interest in cricket because that's a common ground. Maybe mention a popular cricketer or a recent event to connect with him. Since he's sharing personal info, asking a question about his experience could be good. I should keep the tone friendly and engaging. Let me check if there are recent cricket events, but since I don't have real-time data, I can talk about general topics like favorite players or positions. Also, maybe ask about his favorite part of playing cricket. Need to make sure the response is open-ended to encourage further conversation.\\n</think>\\n\\nThat's awesome, Krish! Cricket is such a thrilling sport. Do you prefer batting or bowling? Also, who's your favorite cricket player and why? If you don't mind me asking, do you play in a local team or just for fun? 😊 Let me know—I’m curious to hear more about your cricket adventures!\", additional_kwargs={}, response_metadata={'token_usage': {'completion_tokens': 206, 'prompt_tokens': 20, 'total_tokens': 226, 'completion_time': 0.507254889, 'prompt_time': 0.003236508, 'queue_time': 0.26899427, 'total_time': 0.510491397}, 'model_name': 'qwen-qwq-32b', 'system_fingerprint': 'fp_98b01f25b2', 'finish_reason': 'stop', 'logprobs': None}, id='run--873038d9-3a50-4fab-89bf-b23dc46ebf0f-0', usage_metadata={'input_tokens': 20, 'output_tokens': 206, 'total_tokens': 226})"
      ]
     },
     "execution_count": 5,
     "metadata": {},
     "output_type": "execute_result"
    }
   ],
   "source": [
    "from langchain_groq import ChatGroq\n",
    "\n",
    "llm_groq=ChatGroq(model=\"qwen-qwq-32b\")\n",
    "llm_groq.invoke(\"Hey I am Krish and i like to play cricket\")"
   ]
  },
  {
   "cell_type": "markdown",
   "metadata": {},
   "source": [
    "### We Will start With Creating Nodes"
   ]
  },
  {
   "cell_type": "code",
   "execution_count": 6,
   "metadata": {},
   "outputs": [],
   "source": [
    "from langgraph.checkpoint.memory import MemorySaver\n",
    "memory=MemorySaver()\n",
    "def superbot(state:State):\n",
    "    return {\"messages\":[llm_groq.invoke(state['messages'])]}"
   ]
  },
  {
   "cell_type": "code",
   "execution_count": 7,
   "metadata": {},
   "outputs": [
    {
     "data": {
      "image/png": "[encoded data removed]",
      "text/plain": [
       "<IPython.core.display.Image object>"
      ]
     },
     "metadata": {},
     "output_type": "display_data"
    }
   ],
   "source": [
    "graph=StateGraph(State)\n",
    "\n",
    "## node\n",
    "graph.add_node(\"SuperBot\",superbot)\n",
    "## Edges\n",
    "\n",
    "graph.add_edge(START,\"SuperBot\")\n",
    "graph.add_edge(\"SuperBot\",END)\n",
    "\n",
    "\n",
    "graph_builder=graph.compile(checkpointer=memory)\n",
    "\n",
    "\n",
    "## Display\n",
    "from IPython.display import Image, display\n",
    "display(Image(graph_builder.get_graph().draw_mermaid_png()))"
   ]
  },
  {
   "cell_type": "code",
   "execution_count": 8,
   "metadata": {},
   "outputs": [
    {
     "data": {
      "text/plain": [
       "{'messages': [HumanMessage(content='Hi,My name is Krish And I like cricket', additional_kwargs={}, response_metadata={}, id='edbca794-a3f0-4046-9bbf-1032faa9d88a'),\n",
       "  AIMessage(content=\"\\n<think>\\nOkay, the user introduced himself as Krish and mentioned he likes cricket. I should respond warmly. Let me start by greeting him and acknowledging his name. Then, express enthusiasm about his interest in cricket. Maybe ask him a question about his favorite team or player to keep the conversation going. Need to make sure the tone is friendly and approachable. Let me check if there are any current cricket events I can reference, like the ongoing World Cup or recent matches. Oh right, the ICC Men's T20 World Cup 2023 is happening now. That's a good point to bring up. I should also invite him to share more so he feels engaged. Alright, let's put that together in a natural way without being too verbose.\\n</think>\\n\\nHi Krish! Nice to meet you! 🎯 Cricket is an amazing sport—I’m glad you enjoy it too! Are you a fan of any particular team or player? And have you been following the ICC Men's T20 World Cup 2023? It’s been quite thrilling so far! Let me know your thoughts—I’d love to chat about it! 😊\", additional_kwargs={}, response_metadata={'token_usage': {'completion_tokens': 232, 'prompt_tokens': 20, 'total_tokens': 252, 'completion_time': 0.569968227, 'prompt_time': 0.004353415, 'queue_time': 0.316643635, 'total_time': 0.574321642}, 'model_name': 'qwen-qwq-32b', 'system_fingerprint': 'fp_1e88ca32eb', 'finish_reason': 'stop', 'logprobs': None}, id='run--ea443f40-042f-440a-8449-2a5606edac87-0', usage_metadata={'input_tokens': 20, 'output_tokens': 232, 'total_tokens': 252})]}"
      ]
     },
     "execution_count": 8,
     "metadata": {},
     "output_type": "execute_result"
    }
   ],
   "source": [
    "## Invocation\n",
    "\n",
    "config = {\"configurable\": {\"thread_id\": \"1\"}}\n",
    "\n",
    "graph_builder.invoke({'messages':\"Hi,My name is Krish And I like cricket\"},config)"
   ]
  },
  {
   "cell_type": "markdown",
   "metadata": {},
   "source": [
    "# I have commented below because the outputs are too long,seems not efficient to push to github,you can comment out and checkout the outputs"
   ]
  },
  {
   "cell_type": "markdown",
   "metadata": {},
   "source": [
    "#### Streaming The Responses With Stream Method"
   ]
  },
  {
   "cell_type": "code",
   "execution_count": 9,
   "metadata": {},
   "outputs": [
    {
     "name": "stdout",
     "output_type": "stream",
     "text": [
      "{'SuperBot': {'messages': [AIMessage(content=\"\\n<think>\\nOkay, the user introduced themselves as Krish and mentioned they like cricket. I should respond in a friendly way. Let me start by greeting them back and acknowledging their name and interest. Maybe ask a follow-up question to keep the conversation going. I can mention some popular cricket teams or players to engage them. I should keep it casual and positive. Let me check if there's anything else to add. Hmm, maybe ask if they follow any particular team or player. Yeah, that sounds good. Let me put that together in a natural way without any errors.\\n</think>\\n\\nHello Krish! Nice to meet you. That's great you like cricket—I’m a big fan too! Do you follow any particular cricket teams or players? If you’re interested, I can share some fun facts about the sport or even recommend some classic matches to watch. Let me know! 😊\", additional_kwargs={}, response_metadata={'token_usage': {'completion_tokens': 175, 'prompt_tokens': 20, 'total_tokens': 195, 'completion_time': 0.439758813, 'prompt_time': 0.003180828, 'queue_time': 0.25175731199999996, 'total_time': 0.442939641}, 'model_name': 'qwen-qwq-32b', 'system_fingerprint': 'fp_98b01f25b2', 'finish_reason': 'stop', 'logprobs': None}, id='run--562e4916-fe42-41e5-b575-328ae38f600e-0', usage_metadata={'input_tokens': 20, 'output_tokens': 175, 'total_tokens': 195})]}}\n"
     ]
    }
   ],
   "source": [
    "# Create a thread\n",
    "config = {\"configurable\": {\"thread_id\": \"3\"}}\n",
    "\n",
    "for chunk in graph_builder.stream({'messages':\"Hi,My name is Krish And I like cricket\"},config,stream_mode=\"updates\"):\n",
    "    print(chunk)"
   ]
  },
  {
   "cell_type": "code",
   "execution_count": 14,
   "metadata": {},
   "outputs": [
    {
     "data": {
      "text/plain": [
       "' for chunk in graph_builder.stream({\\'messages\\':\"I also like football\"},config,stream_mode=\"values\"):\\n    print(chunk)'"
      ]
     },
     "execution_count": 14,
     "metadata": {},
     "output_type": "execute_result"
    }
   ],
   "source": [
    "''' for chunk in graph_builder.stream({'messages':\"I also like football\"},config,stream_mode=\"values\"):\n",
    "    print(chunk)'''"
   ]
  },
  {
   "cell_type": "code",
   "execution_count": 15,
   "metadata": {},
   "outputs": [
    {
     "data": {
      "text/plain": [
       "'for chunk in graph_builder.stream({\\'messages\\':\"I also like football \"},config,stream_mode=\"updates\"):\\n    print(chunk)'"
      ]
     },
     "execution_count": 15,
     "metadata": {},
     "output_type": "execute_result"
    }
   ],
   "source": [
    "'''for chunk in graph_builder.stream({'messages':\"I also like football \"},config,stream_mode=\"updates\"):\n",
    "    print(chunk)'''"
   ]
  },
  {
   "cell_type": "code",
   "execution_count": 16,
   "metadata": {},
   "outputs": [
    {
     "data": {
      "text/plain": [
       "'for chunk in graph_builder.stream({\\'messages\\':\"I Love sports \"},config,stream_mode=\"values\"):\\n    print(chunk)'"
      ]
     },
     "execution_count": 16,
     "metadata": {},
     "output_type": "execute_result"
    }
   ],
   "source": [
    "'''for chunk in graph_builder.stream({'messages':\"I Love sports \"},config,stream_mode=\"values\"):\n",
    "    print(chunk)'''"
   ]
  },
  {
   "cell_type": "markdown",
   "metadata": {},
   "source": [
    "#### Streaming The Responses With astream Method\n",
    "\n",
    "**Streaming tokens**\n",
    "We often want to stream more than graph state.\n",
    "\n",
    "In particular, with chat model calls it is common to stream the **tokens** as they are generated.\n",
    "\n",
    "We can do this using the .astream_events method, which streams back events as they happen inside nodes!\n",
    "\n",
    "Each event is a dict with a few keys:\n",
    "\n",
    "- event: This is the type of event that is being emitted.\n",
    "- name: This is the name of event.\n",
    "- data: This is the data associated with the event.\n",
    "- metadata: Containslanggraph_node, the node emitting the event."
   ]
  },
  {
   "cell_type": "code",
   "execution_count": 17,
   "metadata": {},
   "outputs": [
    {
     "data": {
      "text/plain": [
       "'async for event in graph_builder.astream_events({\"messages\":[\"Hi My name is Krish and I like to play cricket\"]},config,version=\"v2\"):\\n    print(event)'"
      ]
     },
     "execution_count": 17,
     "metadata": {},
     "output_type": "execute_result"
    }
   ],
   "source": [
    "config = {\"configurable\": {\"thread_id\": \"3\"}}\n",
    "\n",
    "'''async for event in graph_builder.astream_events({\"messages\":[\"Hi My name is Krish and I like to play cricket\"]},config,version=\"v2\"):\n",
    "    print(event)'''"
   ]
  },
  {
   "cell_type": "code",
   "execution_count": null,
   "metadata": {},
   "outputs": [],
   "source": []
  }
 ],
 "metadata": {
  "kernelspec": {
   "display_name": "Python 3",
   "language": "python",
   "name": "python3"
  },
  "language_info": {
   "codemirror_mode": {
    "name": "ipython",
    "version": 3
   },
   "file_extension": ".py",
   "mimetype": "text/x-python",
   "name": "python",
   "nbconvert_exporter": "python",
   "pygments_lexer": "ipython3",
   "version": "3.12.0"
  }
 },
 "nbformat": 4,
 "nbformat_minor": 2
}
